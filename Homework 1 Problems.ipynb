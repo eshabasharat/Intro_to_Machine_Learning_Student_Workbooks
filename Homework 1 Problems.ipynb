{
  "cells": [
    {
      "cell_type": "code",
      "execution_count": null,
      "metadata": {
        "id": "ujg_VfBan5PX"
      },
      "outputs": [],
      "source": [
        "%pylab inline\n",
        "%config InlineBackend.figure_format = 'retina'\n",
        "from ipywidgets import interact"
      ]
    },
    {
      "cell_type": "markdown",
      "metadata": {
        "id": "WjIQB0Y1n5Pb"
      },
      "source": [
        "# The purpose of the first homework assignment is to have everybody try the homework submission process. This assignment will be graded."
      ]
    },
    {
      "cell_type": "markdown",
      "metadata": {
        "id": "dKV5Rm1Bn5Pc"
      },
      "source": [
        "# Question 1\n",
        "Write Python code in the cell below to answer the following. Solve for $x$ $$2 + 2 = x$$."
      ]
    },
    {
      "cell_type": "code",
      "execution_count": 1,
      "metadata": {
        "id": "03EE_VWEn5Pd",
        "outputId": "42cdf0d7-c8c9-463f-9274-504a13f2ee97",
        "colab": {
          "base_uri": "https://localhost:8080/"
        }
      },
      "outputs": [
        {
          "output_type": "stream",
          "name": "stdout",
          "text": [
            "x = 4\n"
          ]
        }
      ],
      "source": [
        "x = 2 + 2\n",
        "print (\"x =\", x)"
      ]
    },
    {
      "cell_type": "markdown",
      "metadata": {
        "id": "eubS1i-Xn5Pd"
      },
      "source": [
        "# Question 2\n",
        "What experience with programming have you had in the past? Are you having any anxiety over learning to program? If so, can you tell us what specifically you are most anxious about? Answer in a new cell below using Markdown."
      ]
    },
    {
      "cell_type": "markdown",
      "source": [
        "I have previous experince with programing from my Data Analytcis program at NAIT where I started with the basics and progressed to machine learning. While I am still working on becoming more confident in writting code independently, I am able to understand and interpret most code when I see it. I am looking forward to learn more about machine learning.  "
      ],
      "metadata": {
        "id": "OSYuGhgvn-hO"
      }
    }
  ],
  "metadata": {
    "kernelspec": {
      "display_name": "Python 3",
      "language": "python",
      "name": "python3"
    },
    "language_info": {
      "codemirror_mode": {
        "name": "ipython",
        "version": 3
      },
      "file_extension": ".py",
      "mimetype": "text/x-python",
      "name": "python",
      "nbconvert_exporter": "python",
      "pygments_lexer": "ipython3",
      "version": "3.7.3"
    },
    "colab": {
      "provenance": []
    }
  },
  "nbformat": 4,
  "nbformat_minor": 0
}